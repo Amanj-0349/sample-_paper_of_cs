{
 "cells": [
  {
   "cell_type": "code",
   "execution_count": null,
   "id": "013b12c8",
   "metadata": {},
   "outputs": [],
   "source": [
    "# no of tuples in a relation = cardinality\n",
    "# no of attribute in a relation  = degree"
   ]
  },
  {
   "cell_type": "code",
   "execution_count": 1,
   "id": "90bbb19b",
   "metadata": {},
   "outputs": [
    {
     "name": "stdout",
     "output_type": "stream",
     "text": [
      "[[3, 6, 9], [4, 8, 12], [5, 10, 15]]\n"
     ]
    }
   ],
   "source": [
    "m = [[x, x*2, x*3] for x in range (3,6)]\n",
    "print(m)\n"
   ]
  },
  {
   "cell_type": "code",
   "execution_count": null,
   "id": "132bbf04",
   "metadata": {},
   "outputs": [],
   "source": [
    "f=open('filename','wb')"
   ]
  },
  {
   "cell_type": "code",
   "execution_count": null,
   "id": "7573d04c",
   "metadata": {},
   "outputs": [],
   "source": [
    "import mysql.connector"
   ]
  },
  {
   "cell_type": "code",
   "execution_count": null,
   "id": "d45e9560",
   "metadata": {},
   "outputs": [],
   "source": [
    "# null values are ignored by aggregate function in sql"
   ]
  },
  {
   "cell_type": "code",
   "execution_count": null,
   "id": "8b7bb3e7",
   "metadata": {},
   "outputs": [],
   "source": [
    "# f.read() = it will read all the content of the file \n",
    "# f.read(100) = it will read the content up to 100 bytes "
   ]
  },
  {
   "cell_type": "code",
   "execution_count": null,
   "id": "07e71934",
   "metadata": {},
   "outputs": [],
   "source": [
    "# if you want to apply min or max in the list or tuple then the list or tuple must contain homogenous \n",
    "# data."
   ]
  },
  {
   "cell_type": "code",
   "execution_count": null,
   "id": "98e77a3e",
   "metadata": {},
   "outputs": [],
   "source": [
    "# lifo - stack - last in first out\n",
    "# fifo - queue - first in first out"
   ]
  },
  {
   "cell_type": "code",
   "execution_count": null,
   "id": "4ee0361a",
   "metadata": {},
   "outputs": [],
   "source": [
    "''' In circiuit switching, before a communication starts, a dedicated path is\n",
    "identified between the sender and the receiver\n",
    "\n",
    "\n",
    "In packet switching, before a communication starts, a dedicated path is not\n",
    "identified between the sender and the receiver'''"
   ]
  },
  {
   "cell_type": "code",
   "execution_count": null,
   "id": "6f32b59f",
   "metadata": {},
   "outputs": [],
   "source": [
    "'''sys.platform[:2] = 'wi'\n",
    "sys.platorm = window''' "
   ]
  },
  {
   "cell_type": "code",
   "execution_count": null,
   "id": "6b69d038",
   "metadata": {},
   "outputs": [],
   "source": [
    "1 2 4 8 16 32 64 128 \n",
    "1 0 1 0 = 5\n",
    "0 1 0 1 = 10\n",
    "1 1 1 1 = 15\n",
    "0  0  0  0  1  0   0   1 "
   ]
  },
  {
   "cell_type": "code",
   "execution_count": null,
   "id": "f7c78e47",
   "metadata": {},
   "outputs": [],
   "source": [
    "# to avoid wireless collison we use csma / ca protocols \n",
    "# csma stands for carrier sense multiple access and collison avoidance\n",
    "\n",
    "# when it senses that the carrier is idle thats is no other carrier is their or no other node is \n",
    "# transmitting the data"
   ]
  },
  {
   "cell_type": "code",
   "execution_count": null,
   "id": "252dbd44",
   "metadata": {},
   "outputs": [],
   "source": [
    "import mysql.connector as sql \n",
    "mycon = sql.connect(host='localhost',user='root',password='abc')\n",
    "cur = mycon.cursor()\n",
    "cur.execute(\"select Tname from Traders where city in ('delhi','Mumbai')\")\n",
    "data= cur.fetchall() or fetchone() or fetchmany(5)\n",
    "for i in data:\n",
    "    print(i)\n",
    "mycon.close()"
   ]
  },
  {
   "cell_type": "code",
   "execution_count": 3,
   "id": "0253829d",
   "metadata": {},
   "outputs": [
    {
     "name": "stdout",
     "output_type": "stream",
     "text": [
      "{'A': 'One', 'B': 'Two', 'C': 'Three', 'D': 'Four'}\n"
     ]
    }
   ],
   "source": [
    "d={}\n",
    "d['A']='One'\n",
    "d['B']='Two'\n",
    "d['C']='Three'\n",
    "d['D']='Four'\n",
    "\n",
    "print(d)"
   ]
  },
  {
   "cell_type": "code",
   "execution_count": null,
   "id": "26fa861f",
   "metadata": {},
   "outputs": [],
   "source": [
    "import mysql.connector as sql \n",
    "mycon = sql.connect(host='localhost',user='root',password='abc')\n",
    "cur = mycon.cursor()\n",
    "cur.execute(\"insert into Persons(P_ID,Lastname,Firstname)values(5,'Peterson','Kari')\")\n",
    "mycon.commit()\n",
    "mycon.close()"
   ]
  },
  {
   "cell_type": "code",
   "execution_count": 1,
   "id": "05378ff1",
   "metadata": {},
   "outputs": [
    {
     "name": "stdout",
     "output_type": "stream",
     "text": [
      "No entry\n",
      "Welcome\n",
      "value of i 4\n"
     ]
    }
   ],
   "source": [
    "'''i = 3\n",
    "while (i < 5):\n",
    "    if (i == 4):\n",
    "        print(\"Welcome\")\n",
    "    else:\n",
    "        print(\"No entry\")\n",
    "    i = i + 1\n",
    "print(\"value of i\", i)'''\n",
    "\n",
    "for i in range(3,5):\n",
    "    if i==4:\n",
    "        print(\"Welcome\")\n",
    "    else:\n",
    "        print(\"No entry\")\n",
    "print('value of i',i)"
   ]
  },
  {
   "cell_type": "code",
   "execution_count": 3,
   "id": "1f9eea99",
   "metadata": {},
   "outputs": [
    {
     "name": "stdout",
     "output_type": "stream",
     "text": [
      "which character u want to count:m\n",
      "The total occurence is 4\n"
     ]
    }
   ],
   "source": [
    "# seek() method moves the current file pointer to the specified position .\n",
    "# tell() method tells the current file pointer to the specified loaction .\n",
    "\n",
    "def count():\n",
    "    file=open(\"para.txt\",'r')\n",
    "    count = 0\n",
    "    char = input(\"which character u want to count:\")\n",
    "    b=file.read()\n",
    "    \n",
    "    for i in b :\n",
    "        if i == char :\n",
    "            count += 1\n",
    "    print(\"The total occurence is\",count)\n",
    "    file.close()\n",
    "\n",
    "count()\n",
    "            "
   ]
  },
  {
   "cell_type": "code",
   "execution_count": 6,
   "id": "9417dd01",
   "metadata": {},
   "outputs": [
    {
     "name": "stdout",
     "output_type": "stream",
     "text": [
      "b-c-d-"
     ]
    }
   ],
   "source": [
    "# Write a function that accepts two parameters: a dictionary and a number; and prints\n",
    "# only the keys that have values more than the passed number.\n",
    "dic = {'A':15,'b':20,'c':25,'d':18}\n",
    "def dis(d,n):\n",
    "    for i in d:\n",
    "        if d[i] > n:\n",
    "            print(i,end=\"-\")\n",
    "dis(dic,15)"
   ]
  },
  {
   "cell_type": "code",
   "execution_count": null,
   "id": "b8345313",
   "metadata": {},
   "outputs": [],
   "source": []
  },
  {
   "cell_type": "code",
   "execution_count": null,
   "id": "5255e778",
   "metadata": {},
   "outputs": [],
   "source": []
  },
  {
   "cell_type": "code",
   "execution_count": null,
   "id": "3632c794",
   "metadata": {},
   "outputs": [],
   "source": []
  },
  {
   "cell_type": "code",
   "execution_count": null,
   "id": "c2b41b38",
   "metadata": {},
   "outputs": [],
   "source": []
  },
  {
   "cell_type": "code",
   "execution_count": null,
   "id": "84ed9287",
   "metadata": {},
   "outputs": [],
   "source": []
  },
  {
   "cell_type": "code",
   "execution_count": null,
   "id": "5f951baf",
   "metadata": {},
   "outputs": [],
   "source": []
  },
  {
   "cell_type": "code",
   "execution_count": null,
   "id": "779227fd",
   "metadata": {},
   "outputs": [],
   "source": []
  }
 ],
 "metadata": {
  "kernelspec": {
   "display_name": "Python 3 (ipykernel)",
   "language": "python",
   "name": "python3"
  },
  "language_info": {
   "codemirror_mode": {
    "name": "ipython",
    "version": 3
   },
   "file_extension": ".py",
   "mimetype": "text/x-python",
   "name": "python",
   "nbconvert_exporter": "python",
   "pygments_lexer": "ipython3",
   "version": "3.11.5"
  }
 },
 "nbformat": 4,
 "nbformat_minor": 5
}
